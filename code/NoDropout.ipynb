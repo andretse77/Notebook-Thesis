{
 "cells": [
  {
   "cell_type": "code",
   "execution_count": 1,
   "id": "220fa4f5-d2d6-4f5b-9eb6-207d464523f8",
   "metadata": {},
   "outputs": [
    {
     "name": "stdout",
     "output_type": "stream",
     "text": [
      "WARNING:tensorflow:From /opt/tljh/user/lib/python3.9/site-packages/tensorflow/python/compat/v2_compat.py:111: disable_resource_variables (from tensorflow.python.ops.variable_scope) is deprecated and will be removed in a future version.\n",
      "Instructions for updating:\n",
      "non-resource variables are not supported in the long term\n"
     ]
    }
   ],
   "source": [
    "import logging\n",
    "import sys\n",
    "import os\n",
    "from os import listdir\n",
    "from os.path import isfile, join, isdir\n",
    "import numpy as np\n",
    "import tqdm\n",
    "import tensorflow.compat.v1 as tf\n",
    "tf.disable_v2_behavior()\n",
    "import tensorflow.compat.v1.keras as keras\n",
    "import pickle\n",
    "import math\n",
    "import time\n",
    "import shutil\n",
    "import glob\n",
    "import random as rd"
   ]
  },
  {
   "cell_type": "code",
   "execution_count": 2,
   "id": "6afc3967-cfab-49bf-abdc-917b6a7884d3",
   "metadata": {},
   "outputs": [
    {
     "name": "stdout",
     "output_type": "stream",
     "text": [
      "WARNING:tensorflow:From /tmp/ipykernel_2412029/3418296366.py:19: The name tf.keras.backend.set_session is deprecated. Please use tf.compat.v1.keras.backend.set_session instead.\n",
      "\n"
     ]
    }
   ],
   "source": [
    "count = 0\n",
    "countBothWays = 0\n",
    "\n",
    "onionAddressData = {}\n",
    "\n",
    "flow_size = 100\n",
    "\n",
    "negetive_samples = 9\n",
    "BATCH_SIZE = 128\n",
    "EPOCH_COUNT = 200\n",
    "learn_rate=0.0001\n",
    "\n",
    "config = tf.compat.v1.ConfigProto()\n",
    "config.gpu_options.allow_growth = True\n",
    "session = tf.Session(config=config)\n",
    "keras.backend.set_session(session)\n",
    "\n",
    "datasetScalerTimes = 1000\n",
    "datasetScalerSizes = 1/1000\n",
    "\n",
    "CNN_21_41 = {'kernelSize1':[2, 30], 'stride1':[2,1], 'kernelSize2':[4, 10], 'stride2':[4,1]} \n",
    "\n",
    "reduce_factor = 16\n",
    "\n",
    "parameters ={\n",
    "    'cnn_secondStage_21_41':CNN_21_41,\n",
    "}\n",
    "    \n",
    "baseDatasetPath = '/home/jupyter-atse/datasets/'\n",
    "\n",
    "metaDataPairsFolders = pickle.load(open(baseDatasetPath + 'metaDataPairsFolders', 'rb'))\n",
    "trainPairsFolders = pickle.load(open(baseDatasetPath + 'trainPairsFolders', 'rb'))\n",
    "testPairsFolders = pickle.load(open(baseDatasetPath + 'testPairsFolders', 'rb'))\n",
    "\n",
    "onionAddressData = metaDataPairsFolders['onionAddressData']"
   ]
  },
  {
   "cell_type": "code",
   "execution_count": 3,
   "id": "4d532b2f-0352-4510-9505-d9d6dfc61550",
   "metadata": {},
   "outputs": [],
   "source": [
    "def generateDataset(pairsFoldersInput):\n",
    "\n",
    "    global negetive_samples, flow_size, onionAddressData, graphTitle\n",
    "\n",
    "    for onionUrl in onionAddressData:\n",
    "        onionAddressData[onionUrl]['connectionIndex'] = 0\n",
    "\n",
    "    index = 0\n",
    "\n",
    "    l2s=np.zeros((len(pairsFoldersInput)*(negetive_samples+1),8,flow_size,1))\n",
    "    labels=np.zeros((len(pairsFoldersInput)*(negetive_samples+1),1))\n",
    "    for pairFolder in pairsFoldersInput:\n",
    "        \n",
    "        clientTimesIn = pairFolder['clientFlow']['timesIn']\n",
    "        clientTimesOut = pairFolder['clientFlow']['timesOut']\n",
    "        clientSizesIn = pairFolder['clientFlow']['sizesIn']\n",
    "        clientSizesOut = pairFolder['clientFlow']['sizesOut']\n",
    "\n",
    "        hsTimesIn = pairFolder['hsFlow']['timesIn']\n",
    "        hsTimesOut = pairFolder['hsFlow']['timesOut']\n",
    "        hsSizesIn = pairFolder['hsFlow']['sizesIn']\n",
    "        hsSizesOut = pairFolder['hsFlow']['sizesOut']\n",
    "\n",
    "\n",
    "        l2s[index,0,:len(clientTimesIn[:flow_size]),0]=np.array(clientTimesIn[:flow_size])*datasetScalerTimes\n",
    "        l2s[index,1,:len(hsTimesOut[:flow_size]),0]=np.array(hsTimesOut[:flow_size])*datasetScalerTimes\n",
    "        l2s[index,2,:len(hsTimesIn[:flow_size]),0]=np.array(hsTimesIn[:flow_size])*datasetScalerTimes\n",
    "        l2s[index,3,:len(clientTimesOut[:flow_size]),0]=np.array(clientTimesOut[:flow_size])*datasetScalerTimes\n",
    "\n",
    "        l2s[index,4,:len(clientSizesIn[:flow_size]),0]=np.array(clientSizesIn[:flow_size])*datasetScalerSizes\n",
    "        l2s[index,5,:len(hsSizesOut[:flow_size]),0]=np.array(hsSizesOut[:flow_size])*datasetScalerSizes\n",
    "        l2s[index,6,:len(hsSizesIn[:flow_size]),0]=np.array(hsSizesIn[:flow_size])*datasetScalerSizes\n",
    "        l2s[index,7,:len(clientSizesOut[:flow_size]),0]=np.array(clientSizesOut[:flow_size])*datasetScalerSizes\n",
    "\n",
    "        labels[index, 0] = 1\n",
    "\n",
    "        index += 1\n",
    "\n",
    "        random = list(range(len(pairsFoldersInput)))\n",
    "        np.random.shuffle(random)\n",
    "        negetive_samples_current = 0\n",
    "        for negetive_pair_index in random:\n",
    "\n",
    "            #skip if is the original correlated pair\n",
    "            if pairsFoldersInput[negetive_pair_index]['hsFolder'] == pairFolder['hsFolder']:\n",
    "                continue\n",
    "\n",
    "            hsTimesIn = pairsFoldersInput[negetive_pair_index]['hsFlow']['timesIn']\n",
    "            hsTimesOut = pairsFoldersInput[negetive_pair_index]['hsFlow']['timesOut']\n",
    "            hsSizesIn = pairsFoldersInput[negetive_pair_index]['hsFlow']['sizesIn']\n",
    "            hsSizesOut = pairsFoldersInput[negetive_pair_index]['hsFlow']['sizesOut']\n",
    "\n",
    "            \n",
    "            l2s[index,0,:len(clientTimesIn[:flow_size]),0]=np.array(clientTimesIn[:flow_size])*datasetScalerTimes\n",
    "            l2s[index,1,:len(hsTimesOut[:flow_size]),0]=np.array(hsTimesOut[:flow_size])*datasetScalerTimes\n",
    "            l2s[index,2,:len(hsTimesIn[:flow_size]),0]=np.array(hsTimesIn[:flow_size])*datasetScalerTimes\n",
    "            l2s[index,3,:len(clientTimesOut[:flow_size]),0]=np.array(clientTimesOut[:flow_size])*datasetScalerTimes\n",
    "\n",
    "            l2s[index,4,:len(clientSizesIn[:flow_size]),0]=np.array(clientSizesIn[:flow_size])*datasetScalerSizes\n",
    "            l2s[index,5,:len(hsSizesOut[:flow_size]),0]=np.array(hsSizesOut[:flow_size])*datasetScalerSizes\n",
    "            l2s[index,6,:len(hsSizesIn[:flow_size]),0]=np.array(hsSizesIn[:flow_size])*datasetScalerSizes\n",
    "            l2s[index,7,:len(clientSizesOut[:flow_size]),0]=np.array(clientSizesOut[:flow_size])*datasetScalerSizes\n",
    "\n",
    "\n",
    "            labels[index, 0] = 0\n",
    "\n",
    "            index += 1\n",
    "\n",
    "            negetive_samples_current += 1\n",
    "            if negetive_samples_current >= negetive_samples:\n",
    "                break\n",
    "\n",
    "        onionAddressData[pairFolder['onionAddress']]['connectionIndex'] += 1\n",
    "\n",
    "    return l2s, labels"
   ]
  },
  {
   "cell_type": "code",
   "execution_count": 4,
   "id": "d14354fd-ba8b-49b9-a819-d3fd1b369bdd",
   "metadata": {},
   "outputs": [
    {
     "name": "stdout",
     "output_type": "stream",
     "text": [
      "WARNING:tensorflow:From /tmp/ipykernel_2412029/2228505117.py:16: The name tf.keras.initializers.RandomNormal is deprecated. Please use tf.compat.v1.keras.initializers.RandomNormal instead.\n",
      "\n",
      "WARNING:tensorflow:From /opt/tljh/user/lib/python3.9/site-packages/keras/initializers/initializers_v1.py:159: calling RandomNormal.__init__ (from tensorflow.python.ops.init_ops) with dtype is deprecated and will be removed in a future version.\n",
      "Instructions for updating:\n",
      "Call initializer instance with the dtype argument instead of passing it to the constructor\n"
     ]
    },
    {
     "name": "stderr",
     "output_type": "stream",
     "text": [
      "  0%|          | 1/200 [00:04<15:19,  4.62s/it]"
     ]
    },
    {
     "name": "stdout",
     "output_type": "stream",
     "text": [
      "Epoch: 0 loss: 0.39411216156496\n"
     ]
    },
    {
     "name": "stderr",
     "output_type": "stream",
     "text": [
      "  1%|          | 2/200 [00:06<09:17,  2.82s/it]"
     ]
    },
    {
     "name": "stdout",
     "output_type": "stream",
     "text": [
      "Epoch: 1 loss: 0.3497788623705165\n"
     ]
    },
    {
     "name": "stderr",
     "output_type": "stream",
     "text": [
      "  2%|▏         | 3/200 [00:07<07:19,  2.23s/it]"
     ]
    },
    {
     "name": "stdout",
     "output_type": "stream",
     "text": [
      "Epoch: 2 loss: 0.3040931759638884\n",
      "Epoch: 3 loss: 0.2787094545296017\n"
     ]
    },
    {
     "name": "stderr",
     "output_type": "stream",
     "text": [
      "\n",
      "  0%|          | 0/106 [00:00<?, ?it/s]\u001b[A/opt/tljh/user/lib/python3.9/site-packages/keras/engine/training_v1.py:2079: UserWarning: `Model.state_updates` will be removed in a future version. This property should not be used in TensorFlow 2.0, as `updates` are applied automatically.\n",
      "  updates=self.state_updates,\n",
      "  0%|          | 0/106 [00:00<?, ?it/s]\n",
      "  2%|▎         | 5/200 [00:10<05:52,  1.81s/it]"
     ]
    },
    {
     "name": "stdout",
     "output_type": "stream",
     "text": [
      "Epoch: 4 loss: 0.264919599502706\n"
     ]
    },
    {
     "name": "stderr",
     "output_type": "stream",
     "text": [
      "  3%|▎         | 6/200 [00:12<05:31,  1.71s/it]"
     ]
    },
    {
     "name": "stdout",
     "output_type": "stream",
     "text": [
      "Epoch: 5 loss: 0.2522256894874336\n",
      "Epoch: 6 loss: 0.24198123145125627\n"
     ]
    },
    {
     "name": "stderr",
     "output_type": "stream",
     "text": [
      "\n",
      "  0%|          | 0/106 [00:00<?, ?it/s]\u001b[A\n",
      "  4%|▍         | 8/200 [00:15<05:08,  1.61s/it]"
     ]
    },
    {
     "name": "stdout",
     "output_type": "stream",
     "text": [
      "Epoch: 7 loss: 0.2310140685706647\n"
     ]
    },
    {
     "name": "stderr",
     "output_type": "stream",
     "text": [
      "  4%|▍         | 9/200 [00:16<05:01,  1.58s/it]"
     ]
    },
    {
     "name": "stdout",
     "output_type": "stream",
     "text": [
      "Epoch: 8 loss: 0.21282500024914963\n",
      "Epoch: 9 loss: 0.21030602818938124\n"
     ]
    },
    {
     "name": "stderr",
     "output_type": "stream",
     "text": [
      "\n",
      "  0%|          | 0/106 [00:00<?, ?it/s]\u001b[A\n",
      "  6%|▌         | 11/200 [00:19<04:53,  1.55s/it]"
     ]
    },
    {
     "name": "stdout",
     "output_type": "stream",
     "text": [
      "Epoch: 10 loss: 0.1982506707892681\n"
     ]
    },
    {
     "name": "stderr",
     "output_type": "stream",
     "text": [
      "  6%|▌         | 12/200 [00:21<04:50,  1.54s/it]"
     ]
    },
    {
     "name": "stdout",
     "output_type": "stream",
     "text": [
      "Epoch: 11 loss: 0.19263678516817878\n",
      "Epoch: 12 loss: 0.18117403373681124\n"
     ]
    },
    {
     "name": "stderr",
     "output_type": "stream",
     "text": [
      "\n",
      "  0%|          | 0/106 [00:00<?, ?it/s]\u001b[A\n",
      "  7%|▋         | 14/200 [00:24<04:44,  1.53s/it]"
     ]
    },
    {
     "name": "stdout",
     "output_type": "stream",
     "text": [
      "Epoch: 13 loss: 0.1713334723798961\n"
     ]
    },
    {
     "name": "stderr",
     "output_type": "stream",
     "text": [
      "  8%|▊         | 15/200 [00:25<04:40,  1.52s/it]"
     ]
    },
    {
     "name": "stdout",
     "output_type": "stream",
     "text": [
      "Epoch: 14 loss: 0.16452113747670646\n",
      "Epoch: 15 loss: 0.16945252895141014\n"
     ]
    },
    {
     "name": "stderr",
     "output_type": "stream",
     "text": [
      "\n",
      "  0%|          | 0/106 [00:00<?, ?it/s]\u001b[A\n",
      "  8%|▊         | 17/200 [00:29<04:36,  1.51s/it]"
     ]
    },
    {
     "name": "stdout",
     "output_type": "stream",
     "text": [
      "Epoch: 16 loss: 0.15382113225864313\n"
     ]
    },
    {
     "name": "stderr",
     "output_type": "stream",
     "text": [
      "  9%|▉         | 18/200 [00:30<04:36,  1.52s/it]"
     ]
    },
    {
     "name": "stdout",
     "output_type": "stream",
     "text": [
      "Epoch: 17 loss: 0.14524857249787632\n",
      "Epoch: 18 loss: 0.1360909898330614\n"
     ]
    },
    {
     "name": "stderr",
     "output_type": "stream",
     "text": [
      "\n",
      "  0%|          | 0/106 [00:00<?, ?it/s]\u001b[A\n",
      " 10%|█         | 20/200 [00:33<04:33,  1.52s/it]"
     ]
    },
    {
     "name": "stdout",
     "output_type": "stream",
     "text": [
      "Epoch: 19 loss: 0.12723315523340328\n"
     ]
    },
    {
     "name": "stderr",
     "output_type": "stream",
     "text": [
      " 10%|█         | 21/200 [00:35<04:31,  1.52s/it]"
     ]
    },
    {
     "name": "stdout",
     "output_type": "stream",
     "text": [
      "Epoch: 20 loss: 0.13483799656999446\n",
      "Epoch: 21 loss: 0.12044454435772677\n"
     ]
    },
    {
     "name": "stderr",
     "output_type": "stream",
     "text": [
      "\n",
      "  0%|          | 0/106 [00:00<?, ?it/s]\u001b[A\n",
      " 12%|█▏        | 23/200 [00:38<04:28,  1.52s/it]"
     ]
    },
    {
     "name": "stdout",
     "output_type": "stream",
     "text": [
      "Epoch: 22 loss: 0.10951691133334485\n"
     ]
    },
    {
     "name": "stderr",
     "output_type": "stream",
     "text": [
      " 12%|█▏        | 24/200 [00:39<04:26,  1.52s/it]"
     ]
    },
    {
     "name": "stdout",
     "output_type": "stream",
     "text": [
      "Epoch: 23 loss: 0.10781469154647988\n",
      "Epoch: 24 loss: 0.10116684789199291\n"
     ]
    },
    {
     "name": "stderr",
     "output_type": "stream",
     "text": [
      "\n",
      "  0%|          | 0/106 [00:00<?, ?it/s]\u001b[A\n",
      " 13%|█▎        | 26/200 [00:42<04:23,  1.52s/it]"
     ]
    },
    {
     "name": "stdout",
     "output_type": "stream",
     "text": [
      "Epoch: 25 loss: 0.09246343885786873\n"
     ]
    },
    {
     "name": "stderr",
     "output_type": "stream",
     "text": [
      " 14%|█▎        | 27/200 [00:44<04:21,  1.51s/it]"
     ]
    },
    {
     "name": "stdout",
     "output_type": "stream",
     "text": [
      "Epoch: 26 loss: 0.09363352370529997\n",
      "Epoch: 27 loss: 0.08585666603947455\n"
     ]
    },
    {
     "name": "stderr",
     "output_type": "stream",
     "text": [
      "\n",
      "  0%|          | 0/106 [00:00<?, ?it/s]\u001b[A\n",
      " 14%|█▍        | 29/200 [00:47<04:18,  1.51s/it]"
     ]
    },
    {
     "name": "stdout",
     "output_type": "stream",
     "text": [
      "Epoch: 28 loss: 0.07905567536905399\n"
     ]
    },
    {
     "name": "stderr",
     "output_type": "stream",
     "text": [
      " 15%|█▌        | 30/200 [00:48<04:17,  1.51s/it]"
     ]
    },
    {
     "name": "stdout",
     "output_type": "stream",
     "text": [
      "Epoch: 29 loss: 0.08960548400583285\n",
      "Epoch: 30 loss: 0.11557730315397485\n"
     ]
    },
    {
     "name": "stderr",
     "output_type": "stream",
     "text": [
      "\n",
      "  0%|          | 0/106 [00:00<?, ?it/s]\u001b[A\n",
      " 16%|█▌        | 32/200 [00:51<04:13,  1.51s/it]"
     ]
    },
    {
     "name": "stdout",
     "output_type": "stream",
     "text": [
      "Epoch: 31 loss: 0.08764518147030752\n"
     ]
    },
    {
     "name": "stderr",
     "output_type": "stream",
     "text": [
      " 16%|█▋        | 33/200 [00:53<04:11,  1.51s/it]"
     ]
    },
    {
     "name": "stdout",
     "output_type": "stream",
     "text": [
      "Epoch: 32 loss: 0.07406435607339533\n",
      "Epoch: 33 loss: 0.07250845927532337\n"
     ]
    },
    {
     "name": "stderr",
     "output_type": "stream",
     "text": [
      "\n",
      "  0%|          | 0/106 [00:00<?, ?it/s]\u001b[A\n",
      " 18%|█▊        | 35/200 [00:56<04:08,  1.51s/it]"
     ]
    },
    {
     "name": "stdout",
     "output_type": "stream",
     "text": [
      "Epoch: 34 loss: 0.06543675554848132\n"
     ]
    },
    {
     "name": "stderr",
     "output_type": "stream",
     "text": [
      " 18%|█▊        | 36/200 [00:57<04:07,  1.51s/it]"
     ]
    },
    {
     "name": "stdout",
     "output_type": "stream",
     "text": [
      "Epoch: 35 loss: 0.06263792206345305\n",
      "Epoch: 36 loss: 0.06351893218214413\n"
     ]
    },
    {
     "name": "stderr",
     "output_type": "stream",
     "text": [
      "\n",
      "  0%|          | 0/106 [00:00<?, ?it/s]\u001b[A\n",
      " 19%|█▉        | 38/200 [01:00<04:05,  1.52s/it]"
     ]
    },
    {
     "name": "stdout",
     "output_type": "stream",
     "text": [
      "Epoch: 37 loss: 0.07230294439250141\n"
     ]
    },
    {
     "name": "stderr",
     "output_type": "stream",
     "text": [
      " 20%|█▉        | 39/200 [01:02<04:07,  1.54s/it]"
     ]
    },
    {
     "name": "stdout",
     "output_type": "stream",
     "text": [
      "Epoch: 38 loss: 0.0637138083794253\n",
      "Epoch: 39 loss: 0.05925533775943461\n"
     ]
    },
    {
     "name": "stderr",
     "output_type": "stream",
     "text": [
      "\n",
      "  0%|          | 0/106 [00:00<?, ?it/s]\u001b[A\n",
      " 20%|██        | 41/200 [01:05<04:02,  1.52s/it]"
     ]
    },
    {
     "name": "stdout",
     "output_type": "stream",
     "text": [
      "Epoch: 40 loss: 0.05688246103367315\n"
     ]
    },
    {
     "name": "stderr",
     "output_type": "stream",
     "text": [
      " 21%|██        | 42/200 [01:06<04:00,  1.52s/it]"
     ]
    },
    {
     "name": "stdout",
     "output_type": "stream",
     "text": [
      "Epoch: 41 loss: 0.06463542243425259\n",
      "Epoch: 42 loss: 0.06522120646576664\n"
     ]
    },
    {
     "name": "stderr",
     "output_type": "stream",
     "text": [
      "\n",
      "  0%|          | 0/106 [00:00<?, ?it/s]\u001b[A\n",
      " 22%|██▏       | 44/200 [01:09<03:56,  1.52s/it]"
     ]
    },
    {
     "name": "stdout",
     "output_type": "stream",
     "text": [
      "Epoch: 43 loss: 0.05387293144667051\n"
     ]
    },
    {
     "name": "stderr",
     "output_type": "stream",
     "text": [
      " 22%|██▎       | 45/200 [01:11<03:54,  1.51s/it]"
     ]
    },
    {
     "name": "stdout",
     "output_type": "stream",
     "text": [
      "Epoch: 44 loss: 0.054838359923419296\n",
      "Epoch: 45 loss: 0.04832825580102571\n"
     ]
    },
    {
     "name": "stderr",
     "output_type": "stream",
     "text": [
      "\n",
      "  0%|          | 0/106 [00:00<?, ?it/s]\u001b[A\n",
      " 24%|██▎       | 47/200 [01:14<03:51,  1.51s/it]"
     ]
    },
    {
     "name": "stdout",
     "output_type": "stream",
     "text": [
      "Epoch: 46 loss: 0.04943534825282242\n"
     ]
    },
    {
     "name": "stderr",
     "output_type": "stream",
     "text": [
      " 24%|██▍       | 48/200 [01:15<03:49,  1.51s/it]"
     ]
    },
    {
     "name": "stdout",
     "output_type": "stream",
     "text": [
      "Epoch: 47 loss: 0.056742685383805856\n",
      "Epoch: 48 loss: 0.06203659146155947\n"
     ]
    },
    {
     "name": "stderr",
     "output_type": "stream",
     "text": [
      "\n",
      "  0%|          | 0/106 [00:00<?, ?it/s]\u001b[A\n",
      " 25%|██▌       | 50/200 [01:19<03:46,  1.51s/it]"
     ]
    },
    {
     "name": "stdout",
     "output_type": "stream",
     "text": [
      "Epoch: 49 loss: 0.04828661288119525\n"
     ]
    },
    {
     "name": "stderr",
     "output_type": "stream",
     "text": [
      " 26%|██▌       | 51/200 [01:20<03:44,  1.51s/it]"
     ]
    },
    {
     "name": "stdout",
     "output_type": "stream",
     "text": [
      "Epoch: 50 loss: 0.04257705948845023\n",
      "Epoch: 51 loss: 0.09469594962849702\n"
     ]
    },
    {
     "name": "stderr",
     "output_type": "stream",
     "text": [
      "\n",
      "  0%|          | 0/106 [00:00<?, ?it/s]\u001b[A\n",
      " 26%|██▋       | 53/200 [01:23<03:42,  1.51s/it]"
     ]
    },
    {
     "name": "stdout",
     "output_type": "stream",
     "text": [
      "Epoch: 52 loss: 0.0472565816149896\n"
     ]
    },
    {
     "name": "stderr",
     "output_type": "stream",
     "text": [
      " 27%|██▋       | 54/200 [01:25<03:40,  1.51s/it]"
     ]
    },
    {
     "name": "stdout",
     "output_type": "stream",
     "text": [
      "Epoch: 53 loss: 0.04173499845367103\n",
      "Epoch: 54 loss: 0.04232333982427876\n"
     ]
    },
    {
     "name": "stderr",
     "output_type": "stream",
     "text": [
      "\n",
      "  0%|          | 0/106 [00:00<?, ?it/s]\u001b[A\n",
      " 28%|██▊       | 56/200 [01:28<03:37,  1.51s/it]"
     ]
    },
    {
     "name": "stdout",
     "output_type": "stream",
     "text": [
      "Epoch: 55 loss: 0.04076205292844818\n"
     ]
    },
    {
     "name": "stderr",
     "output_type": "stream",
     "text": [
      " 28%|██▊       | 57/200 [01:29<03:35,  1.51s/it]"
     ]
    },
    {
     "name": "stdout",
     "output_type": "stream",
     "text": [
      "Epoch: 56 loss: 0.03823573739948392\n",
      "Epoch: 57 loss: 0.03970083032826496\n"
     ]
    },
    {
     "name": "stderr",
     "output_type": "stream",
     "text": [
      "\n",
      "  0%|          | 0/106 [00:00<?, ?it/s]\u001b[A\n",
      " 30%|██▉       | 59/200 [01:32<03:33,  1.51s/it]"
     ]
    },
    {
     "name": "stdout",
     "output_type": "stream",
     "text": [
      "Epoch: 58 loss: 0.05574009845660363\n"
     ]
    },
    {
     "name": "stderr",
     "output_type": "stream",
     "text": [
      " 30%|███       | 60/200 [01:34<03:31,  1.51s/it]"
     ]
    },
    {
     "name": "stdout",
     "output_type": "stream",
     "text": [
      "Epoch: 59 loss: 0.03495120585100201\n",
      "Epoch: 60 loss: 0.03695932066492287\n"
     ]
    },
    {
     "name": "stderr",
     "output_type": "stream",
     "text": [
      "\n",
      "  0%|          | 0/106 [00:00<?, ?it/s]\u001b[A\n",
      " 31%|███       | 62/200 [01:37<03:28,  1.51s/it]"
     ]
    },
    {
     "name": "stdout",
     "output_type": "stream",
     "text": [
      "Epoch: 61 loss: 0.039039529101385625\n"
     ]
    },
    {
     "name": "stderr",
     "output_type": "stream",
     "text": [
      " 32%|███▏      | 63/200 [01:38<03:26,  1.51s/it]"
     ]
    },
    {
     "name": "stdout",
     "output_type": "stream",
     "text": [
      "Epoch: 62 loss: 0.03829057782759078\n",
      "Epoch: 63 loss: 0.048450070247071014\n"
     ]
    },
    {
     "name": "stderr",
     "output_type": "stream",
     "text": [
      "\n",
      "  0%|          | 0/106 [00:00<?, ?it/s]\u001b[A\n",
      " 32%|███▎      | 65/200 [01:41<03:23,  1.51s/it]"
     ]
    },
    {
     "name": "stdout",
     "output_type": "stream",
     "text": [
      "Epoch: 64 loss: 0.03415216881990888\n"
     ]
    },
    {
     "name": "stderr",
     "output_type": "stream",
     "text": [
      " 33%|███▎      | 66/200 [01:43<03:22,  1.51s/it]"
     ]
    },
    {
     "name": "stdout",
     "output_type": "stream",
     "text": [
      "Epoch: 65 loss: 0.035876215732629134\n",
      "Epoch: 66 loss: 0.03466141632765587\n"
     ]
    },
    {
     "name": "stderr",
     "output_type": "stream",
     "text": [
      "\n",
      "  0%|          | 0/106 [00:00<?, ?it/s]\u001b[A\n",
      " 34%|███▍      | 68/200 [01:46<03:19,  1.51s/it]"
     ]
    },
    {
     "name": "stdout",
     "output_type": "stream",
     "text": [
      "Epoch: 67 loss: 0.03396963791470508\n"
     ]
    },
    {
     "name": "stderr",
     "output_type": "stream",
     "text": [
      " 34%|███▍      | 69/200 [01:47<03:17,  1.51s/it]"
     ]
    },
    {
     "name": "stdout",
     "output_type": "stream",
     "text": [
      "Epoch: 68 loss: 0.03784032551911962\n",
      "Epoch: 69 loss: 0.034733819196865856\n"
     ]
    },
    {
     "name": "stderr",
     "output_type": "stream",
     "text": [
      "\n",
      "  0%|          | 0/106 [00:00<?, ?it/s]\u001b[A\n",
      " 36%|███▌      | 71/200 [01:50<03:15,  1.51s/it]"
     ]
    },
    {
     "name": "stdout",
     "output_type": "stream",
     "text": [
      "Epoch: 70 loss: 0.03289174748456329\n"
     ]
    },
    {
     "name": "stderr",
     "output_type": "stream",
     "text": [
      " 36%|███▌      | 72/200 [01:52<03:13,  1.51s/it]"
     ]
    },
    {
     "name": "stdout",
     "output_type": "stream",
     "text": [
      "Epoch: 71 loss: 0.034132179790866427\n",
      "Epoch: 72 loss: 0.029453503785757784\n"
     ]
    },
    {
     "name": "stderr",
     "output_type": "stream",
     "text": [
      "\n",
      "  0%|          | 0/106 [00:00<?, ?it/s]\u001b[A\n",
      " 37%|███▋      | 74/200 [01:55<03:10,  1.51s/it]"
     ]
    },
    {
     "name": "stdout",
     "output_type": "stream",
     "text": [
      "Epoch: 73 loss: 0.028621913385958233\n"
     ]
    },
    {
     "name": "stderr",
     "output_type": "stream",
     "text": [
      " 38%|███▊      | 75/200 [01:56<03:08,  1.51s/it]"
     ]
    },
    {
     "name": "stdout",
     "output_type": "stream",
     "text": [
      "Epoch: 74 loss: 0.03550796593698143\n",
      "Epoch: 75 loss: 0.037696464490018636\n"
     ]
    },
    {
     "name": "stderr",
     "output_type": "stream",
     "text": [
      "\n",
      "  0%|          | 0/106 [00:00<?, ?it/s]\u001b[A\n",
      " 38%|███▊      | 77/200 [01:59<03:05,  1.51s/it]"
     ]
    },
    {
     "name": "stdout",
     "output_type": "stream",
     "text": [
      "Epoch: 76 loss: 0.030424438768430616\n"
     ]
    },
    {
     "name": "stderr",
     "output_type": "stream",
     "text": [
      " 39%|███▉      | 78/200 [02:01<03:04,  1.51s/it]"
     ]
    },
    {
     "name": "stdout",
     "output_type": "stream",
     "text": [
      "Epoch: 77 loss: 0.028605334788690203\n",
      "Epoch: 78 loss: 0.03653012387360973\n"
     ]
    },
    {
     "name": "stderr",
     "output_type": "stream",
     "text": [
      "\n",
      "  0%|          | 0/106 [00:00<?, ?it/s]\u001b[A\n",
      " 40%|████      | 80/200 [02:04<03:01,  1.51s/it]"
     ]
    },
    {
     "name": "stdout",
     "output_type": "stream",
     "text": [
      "Epoch: 79 loss: 0.030145668121538616\n"
     ]
    },
    {
     "name": "stderr",
     "output_type": "stream",
     "text": [
      " 40%|████      | 81/200 [02:05<02:59,  1.51s/it]"
     ]
    },
    {
     "name": "stdout",
     "output_type": "stream",
     "text": [
      "Epoch: 80 loss: 0.03873345367156395\n",
      "Epoch: 81 loss: 0.03276953622817869\n"
     ]
    },
    {
     "name": "stderr",
     "output_type": "stream",
     "text": [
      "\n",
      "  0%|          | 0/106 [00:00<?, ?it/s]\u001b[A\n",
      " 42%|████▏     | 83/200 [02:08<02:56,  1.51s/it]"
     ]
    },
    {
     "name": "stdout",
     "output_type": "stream",
     "text": [
      "Epoch: 82 loss: 0.02570045629419676\n"
     ]
    },
    {
     "name": "stderr",
     "output_type": "stream",
     "text": [
      " 42%|████▏     | 84/200 [02:10<02:54,  1.51s/it]"
     ]
    },
    {
     "name": "stdout",
     "output_type": "stream",
     "text": [
      "Epoch: 83 loss: 0.029206332395300256\n",
      "Epoch: 84 loss: 0.03330660021878392\n"
     ]
    },
    {
     "name": "stderr",
     "output_type": "stream",
     "text": [
      "\n",
      "  0%|          | 0/106 [00:00<?, ?it/s]\u001b[A\n",
      " 43%|████▎     | 86/200 [02:13<02:52,  1.52s/it]"
     ]
    },
    {
     "name": "stdout",
     "output_type": "stream",
     "text": [
      "Epoch: 85 loss: 0.0270755677566542\n"
     ]
    },
    {
     "name": "stderr",
     "output_type": "stream",
     "text": [
      " 44%|████▎     | 87/200 [02:14<02:51,  1.51s/it]"
     ]
    },
    {
     "name": "stdout",
     "output_type": "stream",
     "text": [
      "Epoch: 86 loss: 0.028606509234232497\n",
      "Epoch: 87 loss: 0.03299760871866495\n"
     ]
    },
    {
     "name": "stderr",
     "output_type": "stream",
     "text": [
      "\n",
      "  0%|          | 0/106 [00:00<?, ?it/s]\u001b[A\n",
      " 44%|████▍     | 89/200 [02:17<02:47,  1.51s/it]"
     ]
    },
    {
     "name": "stdout",
     "output_type": "stream",
     "text": [
      "Epoch: 88 loss: 0.030549075995562502\n"
     ]
    },
    {
     "name": "stderr",
     "output_type": "stream",
     "text": [
      " 45%|████▌     | 90/200 [02:19<02:46,  1.51s/it]"
     ]
    },
    {
     "name": "stdout",
     "output_type": "stream",
     "text": [
      "Epoch: 89 loss: 0.025642296982629396\n",
      "Epoch: 90 loss: 0.026091160976004404\n"
     ]
    },
    {
     "name": "stderr",
     "output_type": "stream",
     "text": [
      "\n",
      "  0%|          | 0/106 [00:00<?, ?it/s]\u001b[A\n",
      " 46%|████▌     | 92/200 [02:22<02:44,  1.52s/it]"
     ]
    },
    {
     "name": "stdout",
     "output_type": "stream",
     "text": [
      "Epoch: 91 loss: 0.027505417652851808\n"
     ]
    },
    {
     "name": "stderr",
     "output_type": "stream",
     "text": [
      " 46%|████▋     | 93/200 [02:24<02:42,  1.52s/it]"
     ]
    },
    {
     "name": "stdout",
     "output_type": "stream",
     "text": [
      "Epoch: 92 loss: 0.029210604201873144\n",
      "Epoch: 93 loss: 0.026601418622384847\n"
     ]
    },
    {
     "name": "stderr",
     "output_type": "stream",
     "text": [
      "\n",
      "  0%|          | 0/106 [00:00<?, ?it/s]\u001b[A\n",
      " 48%|████▊     | 95/200 [02:27<02:40,  1.53s/it]"
     ]
    },
    {
     "name": "stdout",
     "output_type": "stream",
     "text": [
      "Epoch: 94 loss: 0.02793646975844928\n"
     ]
    },
    {
     "name": "stderr",
     "output_type": "stream",
     "text": [
      " 48%|████▊     | 96/200 [02:28<02:38,  1.53s/it]"
     ]
    },
    {
     "name": "stdout",
     "output_type": "stream",
     "text": [
      "Epoch: 95 loss: 0.02925907226073107\n",
      "Epoch: 96 loss: 0.026499328530393947\n"
     ]
    },
    {
     "name": "stderr",
     "output_type": "stream",
     "text": [
      "\n",
      "  0%|          | 0/106 [00:00<?, ?it/s]\u001b[A\n",
      " 49%|████▉     | 98/200 [02:31<02:35,  1.52s/it]"
     ]
    },
    {
     "name": "stdout",
     "output_type": "stream",
     "text": [
      "Epoch: 97 loss: 0.022189803951163267\n"
     ]
    },
    {
     "name": "stderr",
     "output_type": "stream",
     "text": [
      " 50%|████▉     | 99/200 [02:33<02:33,  1.52s/it]"
     ]
    },
    {
     "name": "stdout",
     "output_type": "stream",
     "text": [
      "Epoch: 98 loss: 0.02366456161374225\n",
      "Epoch: 99 loss: 0.02290101078121247\n"
     ]
    },
    {
     "name": "stderr",
     "output_type": "stream",
     "text": [
      "\n",
      "  0%|          | 0/106 [00:00<?, ?it/s]\u001b[A\n",
      " 50%|█████     | 101/200 [02:36<02:29,  1.51s/it]"
     ]
    },
    {
     "name": "stdout",
     "output_type": "stream",
     "text": [
      "Epoch: 100 loss: 0.02463847690619735\n"
     ]
    },
    {
     "name": "stderr",
     "output_type": "stream",
     "text": [
      " 51%|█████     | 102/200 [02:37<02:28,  1.51s/it]"
     ]
    },
    {
     "name": "stdout",
     "output_type": "stream",
     "text": [
      "Epoch: 101 loss: 0.025888730960999112\n",
      "Epoch: 102 loss: 0.031076221515400935\n"
     ]
    },
    {
     "name": "stderr",
     "output_type": "stream",
     "text": [
      "\n",
      "  0%|          | 0/106 [00:00<?, ?it/s]\u001b[A\n",
      " 52%|█████▏    | 104/200 [02:40<02:24,  1.51s/it]"
     ]
    },
    {
     "name": "stdout",
     "output_type": "stream",
     "text": [
      "Epoch: 103 loss: 0.024171575708043406\n"
     ]
    },
    {
     "name": "stderr",
     "output_type": "stream",
     "text": [
      " 52%|█████▎    | 105/200 [02:42<02:23,  1.52s/it]"
     ]
    },
    {
     "name": "stdout",
     "output_type": "stream",
     "text": [
      "Epoch: 104 loss: 0.06023604574389753\n",
      "Epoch: 105 loss: 0.027089615261408108\n"
     ]
    },
    {
     "name": "stderr",
     "output_type": "stream",
     "text": [
      "\n",
      "  0%|          | 0/106 [00:00<?, ?it/s]\u001b[A\n",
      " 54%|█████▎    | 107/200 [02:45<02:20,  1.52s/it]"
     ]
    },
    {
     "name": "stdout",
     "output_type": "stream",
     "text": [
      "Epoch: 106 loss: 0.025075503258091495\n"
     ]
    },
    {
     "name": "stderr",
     "output_type": "stream",
     "text": [
      " 54%|█████▍    | 108/200 [02:46<02:19,  1.52s/it]"
     ]
    },
    {
     "name": "stdout",
     "output_type": "stream",
     "text": [
      "Epoch: 107 loss: 0.021011747288590836\n",
      "Epoch: 108 loss: 0.023305137958023216\n"
     ]
    },
    {
     "name": "stderr",
     "output_type": "stream",
     "text": [
      "\n",
      "  0%|          | 0/106 [00:00<?, ?it/s]\u001b[A\n",
      " 55%|█████▌    | 110/200 [02:49<02:16,  1.52s/it]"
     ]
    },
    {
     "name": "stdout",
     "output_type": "stream",
     "text": [
      "Epoch: 109 loss: 0.018970178390787778\n"
     ]
    },
    {
     "name": "stderr",
     "output_type": "stream",
     "text": [
      " 56%|█████▌    | 111/200 [02:51<02:14,  1.52s/it]"
     ]
    },
    {
     "name": "stdout",
     "output_type": "stream",
     "text": [
      "Epoch: 110 loss: 0.027694512184878495\n",
      "Epoch: 111 loss: 0.026228099647950975\n"
     ]
    },
    {
     "name": "stderr",
     "output_type": "stream",
     "text": [
      "\n",
      "  0%|          | 0/106 [00:00<?, ?it/s]\u001b[A\n",
      " 56%|█████▋    | 113/200 [02:54<02:12,  1.52s/it]"
     ]
    },
    {
     "name": "stdout",
     "output_type": "stream",
     "text": [
      "Epoch: 112 loss: 0.02319118737788059\n"
     ]
    },
    {
     "name": "stderr",
     "output_type": "stream",
     "text": [
      " 57%|█████▋    | 114/200 [02:55<02:10,  1.52s/it]"
     ]
    },
    {
     "name": "stdout",
     "output_type": "stream",
     "text": [
      "Epoch: 113 loss: 0.021261629221356958\n",
      "Epoch: 114 loss: 0.034594546336980135\n"
     ]
    },
    {
     "name": "stderr",
     "output_type": "stream",
     "text": [
      "\n",
      "  0%|          | 0/106 [00:00<?, ?it/s]\u001b[A\n",
      " 58%|█████▊    | 116/200 [02:59<02:07,  1.52s/it]"
     ]
    },
    {
     "name": "stdout",
     "output_type": "stream",
     "text": [
      "Epoch: 115 loss: 0.021385069765319144\n"
     ]
    },
    {
     "name": "stderr",
     "output_type": "stream",
     "text": [
      " 58%|█████▊    | 117/200 [03:00<02:05,  1.51s/it]"
     ]
    },
    {
     "name": "stdout",
     "output_type": "stream",
     "text": [
      "Epoch: 116 loss: 0.020188462071845936\n",
      "Epoch: 117 loss: 0.03004388363909438\n"
     ]
    },
    {
     "name": "stderr",
     "output_type": "stream",
     "text": [
      "\n",
      "  0%|          | 0/106 [00:00<?, ?it/s]\u001b[A\n",
      " 60%|█████▉    | 119/200 [03:03<02:02,  1.51s/it]"
     ]
    },
    {
     "name": "stdout",
     "output_type": "stream",
     "text": [
      "Epoch: 118 loss: 0.021184410721119623\n"
     ]
    },
    {
     "name": "stderr",
     "output_type": "stream",
     "text": [
      " 60%|██████    | 120/200 [03:05<02:00,  1.51s/it]"
     ]
    },
    {
     "name": "stdout",
     "output_type": "stream",
     "text": [
      "Epoch: 119 loss: 0.01980669811022712\n",
      "Epoch: 120 loss: 0.020864542756432878\n"
     ]
    },
    {
     "name": "stderr",
     "output_type": "stream",
     "text": [
      "\n",
      "  0%|          | 0/106 [00:00<?, ?it/s]\u001b[A\n",
      " 61%|██████    | 122/200 [03:08<01:57,  1.51s/it]"
     ]
    },
    {
     "name": "stdout",
     "output_type": "stream",
     "text": [
      "Epoch: 121 loss: 0.019463446278575623\n"
     ]
    },
    {
     "name": "stderr",
     "output_type": "stream",
     "text": [
      " 62%|██████▏   | 123/200 [03:09<01:56,  1.51s/it]"
     ]
    },
    {
     "name": "stdout",
     "output_type": "stream",
     "text": [
      "Epoch: 122 loss: 0.01807816186660981\n",
      "Epoch: 123 loss: 0.023281517792527837\n"
     ]
    },
    {
     "name": "stderr",
     "output_type": "stream",
     "text": [
      "\n",
      "  0%|          | 0/106 [00:00<?, ?it/s]\u001b[A\n",
      " 62%|██████▎   | 125/200 [03:12<01:53,  1.52s/it]"
     ]
    },
    {
     "name": "stdout",
     "output_type": "stream",
     "text": [
      "Epoch: 124 loss: 0.01785968386495451\n"
     ]
    },
    {
     "name": "stderr",
     "output_type": "stream",
     "text": [
      " 63%|██████▎   | 126/200 [03:14<01:52,  1.52s/it]"
     ]
    },
    {
     "name": "stdout",
     "output_type": "stream",
     "text": [
      "Epoch: 125 loss: 0.020408325824351207\n",
      "Epoch: 126 loss: 0.020060338083010082\n"
     ]
    },
    {
     "name": "stderr",
     "output_type": "stream",
     "text": [
      "\n",
      "  0%|          | 0/106 [00:00<?, ?it/s]\u001b[A\n",
      " 64%|██████▍   | 128/200 [03:17<01:49,  1.52s/it]"
     ]
    },
    {
     "name": "stdout",
     "output_type": "stream",
     "text": [
      "Epoch: 127 loss: 0.023583126381289152\n"
     ]
    },
    {
     "name": "stderr",
     "output_type": "stream",
     "text": [
      " 64%|██████▍   | 129/200 [03:18<01:47,  1.51s/it]"
     ]
    },
    {
     "name": "stdout",
     "output_type": "stream",
     "text": [
      "Epoch: 128 loss: 0.014433679556022606\n",
      "Epoch: 129 loss: 0.017219220035325025\n"
     ]
    },
    {
     "name": "stderr",
     "output_type": "stream",
     "text": [
      "\n",
      "  0%|          | 0/106 [00:00<?, ?it/s]\u001b[A\n",
      " 66%|██████▌   | 131/200 [03:21<01:44,  1.52s/it]"
     ]
    },
    {
     "name": "stdout",
     "output_type": "stream",
     "text": [
      "Epoch: 130 loss: 0.019547575836008062\n"
     ]
    },
    {
     "name": "stderr",
     "output_type": "stream",
     "text": [
      " 66%|██████▌   | 132/200 [03:23<01:43,  1.52s/it]"
     ]
    },
    {
     "name": "stdout",
     "output_type": "stream",
     "text": [
      "Epoch: 131 loss: 0.014113794886335723\n",
      "Epoch: 132 loss: 0.02397920750012364\n"
     ]
    },
    {
     "name": "stderr",
     "output_type": "stream",
     "text": [
      "\n",
      "  0%|          | 0/106 [00:00<?, ?it/s]\u001b[A\n",
      " 67%|██████▋   | 134/200 [03:26<01:40,  1.52s/it]"
     ]
    },
    {
     "name": "stdout",
     "output_type": "stream",
     "text": [
      "Epoch: 133 loss: 0.027614631180946557\n"
     ]
    },
    {
     "name": "stderr",
     "output_type": "stream",
     "text": [
      " 68%|██████▊   | 135/200 [03:27<01:38,  1.52s/it]"
     ]
    },
    {
     "name": "stdout",
     "output_type": "stream",
     "text": [
      "Epoch: 134 loss: 0.01859537185748874\n",
      "Epoch: 135 loss: 0.02228577047277107\n"
     ]
    },
    {
     "name": "stderr",
     "output_type": "stream",
     "text": [
      "\n",
      "  0%|          | 0/106 [00:00<?, ?it/s]\u001b[A\n",
      " 68%|██████▊   | 137/200 [03:30<01:35,  1.52s/it]"
     ]
    },
    {
     "name": "stdout",
     "output_type": "stream",
     "text": [
      "Epoch: 136 loss: 0.01814540576866574\n"
     ]
    },
    {
     "name": "stderr",
     "output_type": "stream",
     "text": [
      " 69%|██████▉   | 138/200 [03:32<01:34,  1.52s/it]"
     ]
    },
    {
     "name": "stdout",
     "output_type": "stream",
     "text": [
      "Epoch: 137 loss: 0.020248267746497257\n",
      "Epoch: 138 loss: 0.021845635315967015\n"
     ]
    },
    {
     "name": "stderr",
     "output_type": "stream",
     "text": [
      "\n",
      "  0%|          | 0/106 [00:00<?, ?it/s]\u001b[A\n",
      " 70%|███████   | 140/200 [03:35<01:31,  1.52s/it]"
     ]
    },
    {
     "name": "stdout",
     "output_type": "stream",
     "text": [
      "Epoch: 139 loss: 0.022200176768958736\n"
     ]
    },
    {
     "name": "stderr",
     "output_type": "stream",
     "text": [
      " 70%|███████   | 141/200 [03:36<01:29,  1.52s/it]"
     ]
    },
    {
     "name": "stdout",
     "output_type": "stream",
     "text": [
      "Epoch: 140 loss: 0.018076679547030367\n",
      "Epoch: 141 loss: 0.015095542672956888\n"
     ]
    },
    {
     "name": "stderr",
     "output_type": "stream",
     "text": [
      "\n",
      "  0%|          | 0/106 [00:00<?, ?it/s]\u001b[A\n",
      " 72%|███████▏  | 143/200 [03:39<01:26,  1.52s/it]"
     ]
    },
    {
     "name": "stdout",
     "output_type": "stream",
     "text": [
      "Epoch: 142 loss: 0.019829136840840093\n"
     ]
    },
    {
     "name": "stderr",
     "output_type": "stream",
     "text": [
      " 72%|███████▏  | 144/200 [03:41<01:25,  1.53s/it]"
     ]
    },
    {
     "name": "stdout",
     "output_type": "stream",
     "text": [
      "Epoch: 143 loss: 0.01996144454365238\n",
      "Epoch: 144 loss: 0.01862380052908045\n"
     ]
    },
    {
     "name": "stderr",
     "output_type": "stream",
     "text": [
      "\n",
      "  0%|          | 0/106 [00:00<?, ?it/s]\u001b[A\n",
      " 73%|███████▎  | 146/200 [03:44<01:22,  1.53s/it]"
     ]
    },
    {
     "name": "stdout",
     "output_type": "stream",
     "text": [
      "Epoch: 145 loss: 0.02106486505720113\n"
     ]
    },
    {
     "name": "stderr",
     "output_type": "stream",
     "text": [
      " 74%|███████▎  | 147/200 [03:46<01:20,  1.52s/it]"
     ]
    },
    {
     "name": "stdout",
     "output_type": "stream",
     "text": [
      "Epoch: 146 loss: 0.019248634688440132\n",
      "Epoch: 147 loss: 0.016517135403451087\n"
     ]
    },
    {
     "name": "stderr",
     "output_type": "stream",
     "text": [
      "\n",
      "  0%|          | 0/106 [00:00<?, ?it/s]\u001b[A\n",
      " 74%|███████▍  | 149/200 [03:49<01:17,  1.52s/it]"
     ]
    },
    {
     "name": "stdout",
     "output_type": "stream",
     "text": [
      "Epoch: 148 loss: 0.016714277528573115\n"
     ]
    },
    {
     "name": "stderr",
     "output_type": "stream",
     "text": [
      " 75%|███████▌  | 150/200 [03:50<01:15,  1.51s/it]"
     ]
    },
    {
     "name": "stdout",
     "output_type": "stream",
     "text": [
      "Epoch: 149 loss: 0.014627748966734702\n",
      "Epoch: 150 loss: 0.019456714040799707\n"
     ]
    },
    {
     "name": "stderr",
     "output_type": "stream",
     "text": [
      "\n",
      "  0%|          | 0/106 [00:00<?, ?it/s]\u001b[A\n",
      " 76%|███████▌  | 152/200 [03:53<01:12,  1.52s/it]"
     ]
    },
    {
     "name": "stdout",
     "output_type": "stream",
     "text": [
      "Epoch: 151 loss: 0.019171033522001713\n"
     ]
    },
    {
     "name": "stderr",
     "output_type": "stream",
     "text": [
      " 76%|███████▋  | 153/200 [03:55<01:11,  1.52s/it]"
     ]
    },
    {
     "name": "stdout",
     "output_type": "stream",
     "text": [
      "Epoch: 152 loss: 0.02098815436512509\n",
      "Epoch: 153 loss: 0.01641532532373484\n"
     ]
    },
    {
     "name": "stderr",
     "output_type": "stream",
     "text": [
      "\n",
      "  0%|          | 0/106 [00:00<?, ?it/s]\u001b[A\n",
      " 78%|███████▊  | 155/200 [03:58<01:08,  1.52s/it]"
     ]
    },
    {
     "name": "stdout",
     "output_type": "stream",
     "text": [
      "Epoch: 154 loss: 0.012413461400589734\n"
     ]
    },
    {
     "name": "stderr",
     "output_type": "stream",
     "text": [
      " 78%|███████▊  | 156/200 [03:59<01:06,  1.52s/it]"
     ]
    },
    {
     "name": "stdout",
     "output_type": "stream",
     "text": [
      "Epoch: 155 loss: 0.04402504201200251\n",
      "Epoch: 156 loss: 0.021151563302300273\n"
     ]
    },
    {
     "name": "stderr",
     "output_type": "stream",
     "text": [
      "\n",
      "  0%|          | 0/106 [00:00<?, ?it/s]\u001b[A\n",
      " 79%|███████▉  | 158/200 [04:02<01:03,  1.51s/it]"
     ]
    },
    {
     "name": "stdout",
     "output_type": "stream",
     "text": [
      "Epoch: 157 loss: 0.018975832466737955\n"
     ]
    },
    {
     "name": "stderr",
     "output_type": "stream",
     "text": [
      " 80%|███████▉  | 159/200 [04:04<01:02,  1.51s/it]"
     ]
    },
    {
     "name": "stdout",
     "output_type": "stream",
     "text": [
      "Epoch: 158 loss: 0.023605280151499493\n",
      "Epoch: 159 loss: 0.01922835768561573\n"
     ]
    },
    {
     "name": "stderr",
     "output_type": "stream",
     "text": [
      "\n",
      "  0%|          | 0/106 [00:00<?, ?it/s]\u001b[A\n",
      " 80%|████████  | 161/200 [04:07<00:58,  1.51s/it]"
     ]
    },
    {
     "name": "stdout",
     "output_type": "stream",
     "text": [
      "Epoch: 160 loss: 0.01908447868129785\n"
     ]
    },
    {
     "name": "stderr",
     "output_type": "stream",
     "text": [
      " 81%|████████  | 162/200 [04:08<00:57,  1.51s/it]"
     ]
    },
    {
     "name": "stdout",
     "output_type": "stream",
     "text": [
      "Epoch: 161 loss: 0.011901164053028865\n",
      "Epoch: 162 loss: 0.013913432688734783\n"
     ]
    },
    {
     "name": "stderr",
     "output_type": "stream",
     "text": [
      "\n",
      "  0%|          | 0/106 [00:00<?, ?it/s]\u001b[A\n",
      " 82%|████████▏ | 164/200 [04:11<00:54,  1.51s/it]"
     ]
    },
    {
     "name": "stdout",
     "output_type": "stream",
     "text": [
      "Epoch: 163 loss: 0.016556353818092256\n"
     ]
    },
    {
     "name": "stderr",
     "output_type": "stream",
     "text": [
      " 82%|████████▎ | 165/200 [04:13<00:53,  1.51s/it]"
     ]
    },
    {
     "name": "stdout",
     "output_type": "stream",
     "text": [
      "Epoch: 164 loss: 0.017917247427891886\n",
      "Epoch: 165 loss: 0.015390601372046104\n"
     ]
    },
    {
     "name": "stderr",
     "output_type": "stream",
     "text": [
      "\n",
      "  0%|          | 0/106 [00:00<?, ?it/s]\u001b[A\n",
      " 84%|████████▎ | 167/200 [04:16<00:49,  1.51s/it]"
     ]
    },
    {
     "name": "stdout",
     "output_type": "stream",
     "text": [
      "Epoch: 166 loss: 0.014840147545555104\n"
     ]
    },
    {
     "name": "stderr",
     "output_type": "stream",
     "text": [
      " 84%|████████▍ | 168/200 [04:17<00:48,  1.51s/it]"
     ]
    },
    {
     "name": "stdout",
     "output_type": "stream",
     "text": [
      "Epoch: 167 loss: 0.018155680818650828\n",
      "Epoch: 168 loss: 0.015390794601052561\n"
     ]
    },
    {
     "name": "stderr",
     "output_type": "stream",
     "text": [
      "\n",
      "  0%|          | 0/106 [00:00<?, ?it/s]\u001b[A\n",
      " 85%|████████▌ | 170/200 [04:20<00:45,  1.52s/it]"
     ]
    },
    {
     "name": "stdout",
     "output_type": "stream",
     "text": [
      "Epoch: 169 loss: 0.01564710938697997\n"
     ]
    },
    {
     "name": "stderr",
     "output_type": "stream",
     "text": [
      " 86%|████████▌ | 171/200 [04:22<00:43,  1.52s/it]"
     ]
    },
    {
     "name": "stdout",
     "output_type": "stream",
     "text": [
      "Epoch: 170 loss: 0.01581908461738215\n",
      "Epoch: 171 loss: 0.012102918657119264\n"
     ]
    },
    {
     "name": "stderr",
     "output_type": "stream",
     "text": [
      "\n",
      "  0%|          | 0/106 [00:00<?, ?it/s]\u001b[A\n",
      " 86%|████████▋ | 173/200 [04:25<00:40,  1.52s/it]"
     ]
    },
    {
     "name": "stdout",
     "output_type": "stream",
     "text": [
      "Epoch: 172 loss: 0.014752098250697843\n"
     ]
    },
    {
     "name": "stderr",
     "output_type": "stream",
     "text": [
      " 87%|████████▋ | 174/200 [04:26<00:39,  1.52s/it]"
     ]
    },
    {
     "name": "stdout",
     "output_type": "stream",
     "text": [
      "Epoch: 173 loss: 0.011827631190220577\n",
      "Epoch: 174 loss: 0.012928724874087331\n"
     ]
    },
    {
     "name": "stderr",
     "output_type": "stream",
     "text": [
      "\n",
      "  0%|          | 0/106 [00:00<?, ?it/s]\u001b[A\n",
      " 88%|████████▊ | 176/200 [04:30<00:36,  1.52s/it]"
     ]
    },
    {
     "name": "stdout",
     "output_type": "stream",
     "text": [
      "Epoch: 175 loss: 0.015572725430085345\n"
     ]
    },
    {
     "name": "stderr",
     "output_type": "stream",
     "text": [
      " 88%|████████▊ | 177/200 [04:31<00:34,  1.52s/it]"
     ]
    },
    {
     "name": "stdout",
     "output_type": "stream",
     "text": [
      "Epoch: 176 loss: 0.016476408357085904\n",
      "Epoch: 177 loss: 0.020498590157681965\n"
     ]
    },
    {
     "name": "stderr",
     "output_type": "stream",
     "text": [
      "\n",
      "  0%|          | 0/106 [00:00<?, ?it/s]\u001b[A\n",
      " 90%|████████▉ | 179/200 [04:34<00:31,  1.51s/it]"
     ]
    },
    {
     "name": "stdout",
     "output_type": "stream",
     "text": [
      "Epoch: 178 loss: 0.016693199140653252\n"
     ]
    },
    {
     "name": "stderr",
     "output_type": "stream",
     "text": [
      " 90%|█████████ | 180/200 [04:36<00:30,  1.51s/it]"
     ]
    },
    {
     "name": "stdout",
     "output_type": "stream",
     "text": [
      "Epoch: 179 loss: 0.012921027720704333\n",
      "Epoch: 180 loss: 0.012707311533026568\n"
     ]
    },
    {
     "name": "stderr",
     "output_type": "stream",
     "text": [
      "\n",
      "  0%|          | 0/106 [00:00<?, ?it/s]\u001b[A\n",
      " 91%|█████████ | 182/200 [04:39<00:27,  1.51s/it]"
     ]
    },
    {
     "name": "stdout",
     "output_type": "stream",
     "text": [
      "Epoch: 181 loss: 0.024649474298153156\n"
     ]
    },
    {
     "name": "stderr",
     "output_type": "stream",
     "text": [
      " 92%|█████████▏| 183/200 [04:40<00:25,  1.51s/it]"
     ]
    },
    {
     "name": "stdout",
     "output_type": "stream",
     "text": [
      "Epoch: 182 loss: 0.01529129883707475\n",
      "Epoch: 183 loss: 0.01800769977850736\n"
     ]
    },
    {
     "name": "stderr",
     "output_type": "stream",
     "text": [
      "\n",
      "  0%|          | 0/106 [00:00<?, ?it/s]\u001b[A\n",
      " 92%|█████████▎| 185/200 [04:43<00:22,  1.51s/it]"
     ]
    },
    {
     "name": "stdout",
     "output_type": "stream",
     "text": [
      "Epoch: 184 loss: 0.012808237041393226\n"
     ]
    },
    {
     "name": "stderr",
     "output_type": "stream",
     "text": [
      " 93%|█████████▎| 186/200 [04:45<00:21,  1.51s/it]"
     ]
    },
    {
     "name": "stdout",
     "output_type": "stream",
     "text": [
      "Epoch: 185 loss: 0.01934054534809316\n",
      "Epoch: 186 loss: 0.015473271651398453\n"
     ]
    },
    {
     "name": "stderr",
     "output_type": "stream",
     "text": [
      "\n",
      "  0%|          | 0/106 [00:00<?, ?it/s]\u001b[A\n",
      " 94%|█████████▍| 188/200 [04:48<00:18,  1.52s/it]"
     ]
    },
    {
     "name": "stdout",
     "output_type": "stream",
     "text": [
      "Epoch: 187 loss: 0.011911967385060222\n"
     ]
    },
    {
     "name": "stderr",
     "output_type": "stream",
     "text": [
      " 94%|█████████▍| 189/200 [04:49<00:16,  1.51s/it]"
     ]
    },
    {
     "name": "stdout",
     "output_type": "stream",
     "text": [
      "Epoch: 188 loss: 0.01648142719797222\n",
      "Epoch: 189 loss: 0.014666634011882035\n"
     ]
    },
    {
     "name": "stderr",
     "output_type": "stream",
     "text": [
      "\n",
      "  0%|          | 0/106 [00:00<?, ?it/s]\u001b[A\n",
      " 96%|█████████▌| 191/200 [04:52<00:13,  1.51s/it]"
     ]
    },
    {
     "name": "stdout",
     "output_type": "stream",
     "text": [
      "Epoch: 190 loss: 0.01485170288010277\n"
     ]
    },
    {
     "name": "stderr",
     "output_type": "stream",
     "text": [
      " 96%|█████████▌| 192/200 [04:54<00:12,  1.51s/it]"
     ]
    },
    {
     "name": "stdout",
     "output_type": "stream",
     "text": [
      "Epoch: 191 loss: 0.013984558749732506\n",
      "Epoch: 192 loss: 0.013420699399151716\n"
     ]
    },
    {
     "name": "stderr",
     "output_type": "stream",
     "text": [
      "\n",
      "  0%|          | 0/106 [00:00<?, ?it/s]\u001b[A\n",
      " 97%|█████████▋| 194/200 [04:57<00:09,  1.52s/it]"
     ]
    },
    {
     "name": "stdout",
     "output_type": "stream",
     "text": [
      "Epoch: 193 loss: 0.013432811569452507\n"
     ]
    },
    {
     "name": "stderr",
     "output_type": "stream",
     "text": [
      " 98%|█████████▊| 195/200 [04:58<00:07,  1.51s/it]"
     ]
    },
    {
     "name": "stdout",
     "output_type": "stream",
     "text": [
      "Epoch: 194 loss: 0.019632582799850234\n",
      "Epoch: 195 loss: 0.015812936797078\n"
     ]
    },
    {
     "name": "stderr",
     "output_type": "stream",
     "text": [
      "\n",
      "  0%|          | 0/106 [00:00<?, ?it/s]\u001b[A\n",
      " 98%|█████████▊| 197/200 [05:01<00:04,  1.51s/it]"
     ]
    },
    {
     "name": "stdout",
     "output_type": "stream",
     "text": [
      "Epoch: 196 loss: 0.009837904463014614\n"
     ]
    },
    {
     "name": "stderr",
     "output_type": "stream",
     "text": [
      " 99%|█████████▉| 198/200 [05:03<00:03,  1.51s/it]"
     ]
    },
    {
     "name": "stdout",
     "output_type": "stream",
     "text": [
      "Epoch: 197 loss: 0.022043439215632305\n",
      "Epoch: 198 loss: 0.05712147181944879\n"
     ]
    },
    {
     "name": "stderr",
     "output_type": "stream",
     "text": [
      "\n",
      "  0%|          | 0/106 [00:00<?, ?it/s]\u001b[A\n",
      "100%|██████████| 200/200 [05:06<00:00,  1.53s/it]"
     ]
    },
    {
     "name": "stdout",
     "output_type": "stream",
     "text": [
      "Epoch: 199 loss: 0.027203624910788735\n"
     ]
    },
    {
     "name": "stderr",
     "output_type": "stream",
     "text": [
      "\n",
      "/opt/tljh/user/lib/python3.9/site-packages/keras/engine/training_v1.py:2057: UserWarning: `Model.state_updates` will be removed in a future version. This property should not be used in TensorFlow 2.0, as `updates` are applied automatically.\n",
      "  updates = self.state_updates\n"
     ]
    }
   ],
   "source": [
    "for modelParametersKey in parameters:\n",
    "    \n",
    "    #create directory for models\n",
    "    if not os.path.exists(modelParametersKey):\n",
    "        os.makedirs(modelParametersKey)\n",
    "\n",
    "\n",
    "    #model definition\n",
    "    model = keras.Sequential()\n",
    "\n",
    "    orig = [2000/reduce_factor, 1000/reduce_factor, 49600/reduce_factor, 3000/reduce_factor, 800/reduce_factor, 100/reduce_factor]\n",
    "    #dropout_prob = 0.4\n",
    "    model.add(keras.layers.Conv2D(int(orig[0]), input_shape=[8, flow_size, 1], kernel_size=parameters[modelParametersKey]['kernelSize1'], strides=parameters[modelParametersKey]['stride1'], padding='VALID', kernel_initializer=keras.initializers.RandomNormal(mean=0.0, stddev=0.01, seed=None)))\n",
    "    model.add(keras.layers.Activation('relu'))\n",
    "    model.add(keras.layers.MaxPool2D(pool_size=(1, 5), strides=(1, 1), padding='VALID'))\n",
    "\n",
    "    model.add(keras.layers.Conv2D(int(orig[1]), kernel_size=parameters[modelParametersKey]['kernelSize2'], strides=parameters[modelParametersKey]['stride2'], padding='VALID', kernel_initializer=keras.initializers.RandomNormal(mean=0.0, stddev=0.01, seed=None)))\n",
    "    model.add(keras.layers.Activation('relu'))\n",
    "    model.add(keras.layers.MaxPool2D(pool_size=(1, 5), strides=(1, 1), padding='VALID')) \n",
    "\n",
    "    model.add(keras.layers.Flatten())\n",
    "    model.add(keras.layers.Dense(int(orig[3]), kernel_initializer=keras.initializers.RandomNormal(mean=0.0, stddev=0.01, seed=None)))\n",
    "    model.add(keras.layers.Activation('relu'))\n",
    "    #model.add(keras.layers.Dropout(dropout_prob))\n",
    "    model.add(keras.layers.Dense(int(orig[4]), kernel_initializer=keras.initializers.RandomNormal(mean=0.0, stddev=0.01, seed=None)))\n",
    "    model.add(keras.layers.Activation('relu'))\n",
    "    #model.add(keras.layers.Dropout(dropout_prob))\n",
    "    model.add(keras.layers.Dense(int(orig[5]), kernel_initializer=keras.initializers.RandomNormal(mean=0.0, stddev=0.01, seed=None)))\n",
    "    model.add(keras.layers.Activation('relu'))\n",
    "    #model.add(keras.layers.Dropout(dropout_prob))\n",
    "    model.add(keras.layers.Dense(1))\n",
    "\n",
    "    def customLoss(y_true,y_pred):\n",
    "        return tf.reduce_mean(tf.nn.sigmoid_cross_entropy_with_logits(logits=y_pred,labels=y_true),name='loss_sigmoid')\n",
    "\n",
    "\n",
    "\n",
    "    model.compile(loss=customLoss, optimizer=tf.keras.optimizers.Adam(learning_rate=learn_rate), metrics=['accuracy'])\n",
    "    # custom function\n",
    "    def sigmoid(x):\n",
    "        if x < -150:\n",
    "            x = -150\n",
    "        if x > 150:\n",
    "            x = 150\n",
    "        return 1 / (1 + math.exp(-x))\n",
    "\n",
    "    # define vectorized sigmoid\n",
    "    sigmoid_v = np.vectorize(sigmoid)\n",
    "\n",
    "\n",
    "\n",
    "    losses = [10, 10]\n",
    "    saveNames = ['', '']\n",
    "    precisionBest = 0\n",
    "    saveNamePrecisionBest = ''\n",
    "    f1_05 = 0\n",
    "    saveNameF1_05 = ''\n",
    "\n",
    "    correlatedPerRound = 10\n",
    "\n",
    "\n",
    "    tpBest = 0\n",
    "    tp = { 0.01 : 0, 0.05 : 0, 0.1 : 0, 0.2 : 0, 0.3 : 0, 0.4 : 0, 0.5 : 0, 0.6 : 0, 0.7 : 0, 0.8 : 0, 0.9 : 0, 0.95 : 0, 0.99 : 0}\n",
    "    fpBest = 0\n",
    "    fp = { 0.01 : 0, 0.05 : 0, 0.1 : 0, 0.2 : 0, 0.3 : 0, 0.4 : 0, 0.5 : 0, 0.6 : 0, 0.7 : 0, 0.8 : 0, 0.9 : 0, 0.95 : 0, 0.99 : 0}\n",
    "    tn = { 0.01 : 0, 0.05 : 0, 0.1 : 0, 0.2 : 0, 0.3 : 0, 0.4 : 0, 0.5 : 0, 0.6 : 0, 0.7 : 0, 0.8 : 0, 0.9 : 0, 0.95 : 0, 0.99 : 0}\n",
    "    fn = { 0.01 : 0, 0.05 : 0, 0.1 : 0, 0.2 : 0, 0.3 : 0, 0.4 : 0, 0.5 : 0, 0.6 : 0, 0.7 : 0, 0.8 : 0, 0.9 : 0, 0.95 : 0, 0.99 : 0}\n",
    "\n",
    "    start = time.time()\n",
    "    try:\n",
    "\n",
    "        for epoch in tqdm.tqdm(range(EPOCH_COUNT)):\n",
    "            l2s, labels = generateDataset(trainPairsFolders)\n",
    "            rr= list(range(len(l2s)))\n",
    "            np.random.shuffle(rr)\n",
    "            l2s=l2s[rr]\n",
    "            labels=labels[rr]\n",
    "            \n",
    "            history = model.fit(l2s, labels, batch_size=BATCH_SIZE, verbose=0)\n",
    "            loss = history.history['loss'][-1]\n",
    "            print(\"Epoch:\", epoch, \"loss:\", loss)\n",
    "            \n",
    "\n",
    "            path = 'epoch' + str(epoch) + '_loss' + str(loss) + '/cp.ckpt'\n",
    "            model.save_weights(modelParametersKey + '/' + 'last_' + path)\n",
    "            for filename in glob.glob(modelParametersKey + '/' + 'last_' + 'epoch' + str(epoch-1) + '*'):\n",
    "                shutil.rmtree(filename)\n",
    "\n",
    "\n",
    "\n",
    "\n",
    "            #save model based on precision\n",
    "            if epoch % 3 == 0 and epoch > 0:\n",
    "                for onionUrl in onionAddressData:\n",
    "                    onionAddressData[onionUrl]['connectionIndex'] = 0\n",
    "\n",
    "                for i in tqdm.tqdm(range(len(testPairsFolders)//correlatedPerRound-1)):\n",
    "                    #print(i)\n",
    "                    l2s_test=np.zeros(((negetive_samples+1)*correlatedPerRound,8,flow_size,1))\n",
    "                    labels_test=np.zeros(((negetive_samples+1)*correlatedPerRound))\n",
    "\n",
    "                    index = 0\n",
    "\n",
    "                    for pairFolder in testPairsFolders[i*correlatedPerRound:(i+1)*correlatedPerRound]:\n",
    "\n",
    "                        clientTimesIn = pairFolder['clientFlow']['timesIn']\n",
    "                        clientTimesOut = pairFolder['clientFlow']['timesOut']\n",
    "                        clientSizesIn = pairFolder['clientFlow']['sizesIn']\n",
    "                        clientSizesOut = pairFolder['clientFlow']['sizesOut']\n",
    "\n",
    "                        hsTimesIn = pairFolder['hsFlow']['timesIn']\n",
    "                        hsTimesOut = pairFolder['hsFlow']['timesOut']\n",
    "                        hsSizesIn = pairFolder['hsFlow']['sizesIn']\n",
    "                        hsSizesOut = pairFolder['hsFlow']['sizesOut']                  \n",
    "\n",
    "                        l2s_test[index,0,:len(clientTimesIn[:flow_size]),0]=np.array(clientTimesIn[:flow_size])*datasetScalerTimes\n",
    "                        l2s_test[index,1,:len(hsTimesOut[:flow_size]),0]=np.array(hsTimesOut[:flow_size])*datasetScalerTimes\n",
    "                        l2s_test[index,2,:len(hsTimesIn[:flow_size]),0]=np.array(hsTimesIn[:flow_size])*datasetScalerTimes\n",
    "                        l2s_test[index,3,:len(clientTimesOut[:flow_size]),0]=np.array(clientTimesOut[:flow_size])*datasetScalerTimes\n",
    "\n",
    "                        l2s_test[index,4,:len(clientSizesIn[:flow_size]),0]=np.array(clientSizesIn[:flow_size])*datasetScalerSizes\n",
    "                        l2s_test[index,5,:len(hsSizesOut[:flow_size]),0]=np.array(hsSizesOut[:flow_size])*datasetScalerSizes\n",
    "                        l2s_test[index,6,:len(hsSizesIn[:flow_size]),0]=np.array(hsSizesIn[:flow_size])*datasetScalerSizes\n",
    "                        l2s_test[index,7,:len(clientSizesOut[:flow_size]),0]=np.array(clientSizesOut[:flow_size])*datasetScalerSizes\n",
    "\n",
    "                        labels_test[index] = 1\n",
    "\n",
    "                        index += 1\n",
    "\n",
    "                        random = list(range(len(testPairsFolders)))\n",
    "                        np.random.shuffle(random)\n",
    "                        negetive_samples_current = 0\n",
    "                        for negetive_pair_index in random:\n",
    "\n",
    "                            #if is the corresponding \n",
    "                            if testPairsFolders[negetive_pair_index]['hsFolder'] == pairFolder['hsFolder']:\n",
    "                                continue\n",
    "\n",
    "\n",
    "                            hsTimesIn = testPairsFolders[negetive_pair_index]['hsFlow']['timesIn']\n",
    "                            hsTimesOut = testPairsFolders[negetive_pair_index]['hsFlow']['timesOut']\n",
    "                            hsSizesIn = testPairsFolders[negetive_pair_index]['hsFlow']['sizesIn']\n",
    "                            hsSizesOut = testPairsFolders[negetive_pair_index]['hsFlow']['sizesOut']   \n",
    "\n",
    "\n",
    "                            l2s_test[index,0,:len(clientTimesIn[:flow_size]),0]=np.array(clientTimesIn[:flow_size])*datasetScalerTimes\n",
    "                            l2s_test[index,1,:len(hsTimesOut[:flow_size]),0]=np.array(hsTimesOut[:flow_size])*datasetScalerTimes\n",
    "                            l2s_test[index,2,:len(hsTimesIn[:flow_size]),0]=np.array(hsTimesIn[:flow_size])*datasetScalerTimes\n",
    "                            l2s_test[index,3,:len(clientTimesOut[:flow_size]),0]=np.array(clientTimesOut[:flow_size])*datasetScalerTimes\n",
    "\n",
    "                            l2s_test[index,4,:len(clientSizesIn[:flow_size]),0]=np.array(clientSizesIn[:flow_size])*datasetScalerSizes\n",
    "                            l2s_test[index,5,:len(hsSizesOut[:flow_size]),0]=np.array(hsSizesOut[:flow_size])*datasetScalerSizes\n",
    "                            l2s_test[index,6,:len(hsSizesIn[:flow_size]),0]=np.array(hsSizesIn[:flow_size])*datasetScalerSizes\n",
    "                            l2s_test[index,7,:len(clientSizesOut[:flow_size]),0]=np.array(clientSizesOut[:flow_size])*datasetScalerSizes\n",
    "\n",
    "\n",
    "                            labels_test[index] = 0\n",
    "\n",
    "                            index += 1\n",
    "\n",
    "                            negetive_samples_current += 1\n",
    "                            if negetive_samples_current >= negetive_samples:\n",
    "                                break\n",
    "\n",
    "                    #ignore batch size and use batches of negetive_samples+1\n",
    "                    prediction = model.predict(l2s_test)\n",
    "                    break\n",
    "                    results = sigmoid_v(prediction).tolist()\n",
    "                    #'''\n",
    "\n",
    "\n",
    "\n",
    "\n",
    "    except KeyboardInterrupt:\n",
    "        pass\n",
    "\n",
    "    #model.save_weights(checkpoint_path)\n",
    "    #print(\"Saved\")\n",
    "\n",
    "    #end = time.time()\n",
    "    #print('Training time(s): ' + str(end - start))\n",
    "    \n",
    "    this_execution = np.zeros(10)\n",
    "    l3s, labels3 = generateDataset(testPairsFolders)\n",
    "    for j in range(10):\n",
    "        start_test = time.time()\n",
    "        test_loss, test_accuracy = model.evaluate(l3s,labels3, batch_size=BATCH_SIZE, verbose=1)\n",
    "        end_test = time.time()\n",
    "        this_execution[j] = end_test - start_test\n",
    "    execution_time = np.min(this_execution)\n",
    "    precision_value = test_accuracy"
   ]
  },
  {
   "cell_type": "code",
   "execution_count": 5,
   "id": "712d811e-1349-4e16-97cf-3088a3832ff1",
   "metadata": {},
   "outputs": [
    {
     "name": "stdout",
     "output_type": "stream",
     "text": [
      "Runtime =  0.21114492416381836\n",
      "Accuracy =  0.91821563\n"
     ]
    }
   ],
   "source": [
    "print('Runtime = ', execution_time)\n",
    "print('Accuracy = ', precision_value)"
   ]
  }
 ],
 "metadata": {
  "kernelspec": {
   "display_name": "Python 3 (ipykernel)",
   "language": "python",
   "name": "python3"
  },
  "language_info": {
   "codemirror_mode": {
    "name": "ipython",
    "version": 3
   },
   "file_extension": ".py",
   "mimetype": "text/x-python",
   "name": "python",
   "nbconvert_exporter": "python",
   "pygments_lexer": "ipython3",
   "version": "3.9.9"
  }
 },
 "nbformat": 4,
 "nbformat_minor": 5
}
